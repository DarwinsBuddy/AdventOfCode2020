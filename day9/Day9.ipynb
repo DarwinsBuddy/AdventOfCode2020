{
 "cells": [
  {
   "cell_type": "code",
   "execution_count": 7,
   "metadata": {},
   "outputs": [],
   "source": [
    "import pandas as pd"
   ]
  },
  {
   "cell_type": "code",
   "execution_count": 18,
   "metadata": {},
   "outputs": [],
   "source": [
    "df = pd.read_csv('input', header=None)\n",
    "df.head()\n",
    "data = [x[0] for x in df.values.tolist()]"
   ]
  },
  {
   "cell_type": "code",
   "execution_count": 19,
   "metadata": {},
   "outputs": [],
   "source": [
    "from itertools import combinations\n",
    "def allSums(preamble, verbose=False):\n",
    "    verbose and print(f'combinations = {list(combinations(preamble, 2))}')\n",
    "    return [sum(c) for c in combinations(preamble, 2)]"
   ]
  },
  {
   "cell_type": "code",
   "execution_count": 21,
   "metadata": {},
   "outputs": [
    {
     "name": "stdout",
     "output_type": "stream",
     "text": [
      "sequence = [4, 15, 11, 10, 33, 20, 42, 34, 49, 45, 29, 43, 26, 12, 19, 17, 28, 47, 46, 2, 18, 39, 50, 3, 23, 5, 14]\n",
      "part 1 solution: 1721308972\n"
     ]
    }
   ],
   "source": [
    "preamble_length = 25\n",
    "\n",
    "def findBadApple(sequence, verbose=False):\n",
    "    print(f'sequence = {sequence[:preamble_length + 2]}')\n",
    "    preamble = sequence[:preamble_length]\n",
    "    dat = sequence[preamble_length:]\n",
    "    while len(dat) > 0:\n",
    "        verbose and print(f'preamble = {preamble}')\n",
    "        candidate = dat[0]\n",
    "        verbose and print(f'candidate = {candidate}')\n",
    "        dat = dat[1:]\n",
    "        verbose and print(f'dat = {dat[:10]}')\n",
    "        if candidate not in allSums(preamble):\n",
    "            verbose and print(f'{candidate} in {allSums(preamble)}? => {candidate in allSums(preamble)}')\n",
    "            return candidate\n",
    "        preamble = preamble[1:] + [candidate]\n",
    "    return None\n",
    "        \n",
    "bad_apple = findBadApple(data, False)\n",
    "print(f'part 1 solution: {bad_apple}')"
   ]
  },
  {
   "cell_type": "code",
   "execution_count": 44,
   "metadata": {},
   "outputs": [
    {
     "name": "stdout",
     "output_type": "stream",
     "text": [
      "Generated 497503 candidates\n",
      "FOUND: 209694133\n"
     ]
    }
   ],
   "source": [
    "from itertools import chain\n",
    "data_without_suspect = [x[0] for x in df.values.tolist()]\n",
    "data_without_suspect.remove(bad_apple)\n",
    "\n",
    "verbose = False\n",
    "candidates = [[data_without_suspect[i:i+length] for i in range(0,len(data_without_suspect)-length)] for length in list(reversed(range(2,len(data_without_suspect))))]\n",
    "flattened_candidates = list(chain(*candidates))\n",
    "print(f'Generated {len(flattened_candidates)} candidates')\n",
    "for x in flattened_candidates:\n",
    "    #print(f'{x}')\n",
    "    verbose and print(f'sum = {sum(x)} {x}')\n",
    "    if sum(x) == bad_apple:\n",
    "        print(f'FOUND: {min(x)+max(x)}')"
   ]
  },
  {
   "cell_type": "code",
   "execution_count": null,
   "metadata": {},
   "outputs": [],
   "source": [
    "# INVALID SOLUTION solving the computationally harder problem of finding a combination of numbers within the stream\n",
    "# fulfilling the requirements\n",
    "from collections import defaultdict\n",
    "\n",
    "def findWeakness(suspect, candidate_combo, dat, length):\n",
    "    # if there are still numbers left for combination dig down into recursion\n",
    "    if len(dat) > 0:\n",
    "        for d in dat:\n",
    "            # skip our suspect\n",
    "            if suspect == d:\n",
    "                continue\n",
    "            new_candidate_combo = candidate_combo + [d]\n",
    "            #print(f'new_candidate_combo = {new_candidate_combo}')\n",
    "            if sum(new_candidate_combo) == suspect:\n",
    "                return new_candidate_combo # TODO: return min and max of found list\n",
    "            elif sum(new_candidate_combo) < suspect:\n",
    "                check = findWeakness(\n",
    "                    suspect,\n",
    "                    new_candidate_combo,\n",
    "                    list(set(dat) - set([d])),\n",
    "                    length + 1\n",
    "                )\n",
    "                if len(check):\n",
    "                    return check\n",
    "    return []\n",
    "        \n",
    "result = None\n",
    "x = findWeakness(bad_apple, [], sorted(data), 0)\n",
    "print(f'FOUND: {sorted(x)} = {sum(x)}')\n",
    "print(f'SUSPECT: {bad_apple}')\n",
    "print('DONE.')\n",
    "min(x)+max(x)"
   ]
  }
 ],
 "metadata": {
  "kernelspec": {
   "display_name": "Python 3",
   "language": "python",
   "name": "python3"
  },
  "language_info": {
   "codemirror_mode": {
    "name": "ipython",
    "version": 3
   },
   "file_extension": ".py",
   "mimetype": "text/x-python",
   "name": "python",
   "nbconvert_exporter": "python",
   "pygments_lexer": "ipython3",
   "version": "3.9.0"
  }
 },
 "nbformat": 4,
 "nbformat_minor": 4
}
