{
 "cells": [
  {
   "cell_type": "code",
   "execution_count": 16,
   "metadata": {},
   "outputs": [],
   "source": [
    "import pandas as pd\n"
   ]
  },
  {
   "cell_type": "code",
   "execution_count": 23,
   "metadata": {},
   "outputs": [
    {
     "name": "stdout",
     "output_type": "stream",
     "text": [
      "[['3-5 f', ' fgfff'], ['6-20 n', ' qlzsnnnndwnlhwnxhvjn'], ['6-7 j', ' jjjjjwrj'], ['8-10 g', ' gggggggggg'], ['5-6 t', ' ttttttft'], ['6-11 h', ' khmchszhmzm'], ['4-6 q', ' qqbjqqqj'], ['6-8 j', ' gtkwwjjj'], ['13-14 w', ' lwgwrwczwwhkww'], ['2-4 p', ' vcnptzdppvpdzp']]\n"
     ]
    }
   ],
   "source": [
    "pw_df = pd.read_csv('input', header=None, names=['rule', 'pw'], sep=':')\n",
    "pw_df.head()\n",
    "data = pw_df.values.tolist()\n",
    "print(data[:10])"
   ]
  },
  {
   "cell_type": "code",
   "execution_count": 34,
   "metadata": {},
   "outputs": [
    {
     "data": {
      "text/plain": [
       "564"
      ]
     },
     "execution_count": 34,
     "metadata": {},
     "output_type": "execute_result"
    }
   ],
   "source": [
    "# DAY 2 - PART 1\n",
    "def testSled(row):\n",
    "    rule = row[0]\n",
    "    pw = row[1]\n",
    "    r = rule.split(' ')\n",
    "    minOccurances, maxOccurances = [int(x) for x in r[0].split('-')]\n",
    "    char = r[1]\n",
    "    occurances = len([c for c in pw if char == c])\n",
    "    return minOccurances <= occurances and occurances <= maxOccurances\n",
    "\n",
    "len([ isValid for isValid in [testSled(d) for d in data] if isValid])"
   ]
  },
  {
   "cell_type": "code",
   "execution_count": 37,
   "metadata": {},
   "outputs": [
    {
     "data": {
      "text/plain": [
       "325"
      ]
     },
     "execution_count": 37,
     "metadata": {},
     "output_type": "execute_result"
    }
   ],
   "source": [
    "# DAY 2 - PART 2\n",
    "def testToboggan(row):\n",
    "    rule = row[0]\n",
    "    pw = row[1]\n",
    "    r = rule.split(' ')\n",
    "    #minPos, maxPos = [int(x) for x in r[0].split('-')]\n",
    "    positions = [int(x) for x in r[0].split('-')]\n",
    "    #positions = range(minPos-1, maxPos)\n",
    "    char = r[1]\n",
    "    return sum([(1 if pw[i] == char else 0) for i in positions]) == 1\n",
    "\n",
    "len([ isValid for isValid in [testToboggan(d) for d in data] if isValid])"
   ]
  },
  {
   "cell_type": "code",
   "execution_count": null,
   "metadata": {},
   "outputs": [],
   "source": []
  }
 ],
 "metadata": {
  "kernelspec": {
   "display_name": "Python 3",
   "language": "python",
   "name": "python3"
  },
  "language_info": {
   "codemirror_mode": {
    "name": "ipython",
    "version": 3
   },
   "file_extension": ".py",
   "mimetype": "text/x-python",
   "name": "python",
   "nbconvert_exporter": "python",
   "pygments_lexer": "ipython3",
   "version": "3.9.0"
  }
 },
 "nbformat": 4,
 "nbformat_minor": 4
}
