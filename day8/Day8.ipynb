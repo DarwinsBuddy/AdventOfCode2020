{
 "cells": [
  {
   "cell_type": "code",
   "execution_count": 1,
   "metadata": {},
   "outputs": [],
   "source": [
    "import pandas as pd"
   ]
  },
  {
   "cell_type": "code",
   "execution_count": 2,
   "metadata": {},
   "outputs": [],
   "source": [
    "df = pd.read_csv('input', header=None)\n",
    "#df.head()\n",
    "#df.values.tolist()\n",
    "original_program = [s[0].split(' ') for s in df.values.tolist()]\n",
    "original_program = [[x[0], int(x[1])] for x in original_program]"
   ]
  },
  {
   "cell_type": "code",
   "execution_count": 3,
   "metadata": {},
   "outputs": [],
   "source": [
    "interpret = {\n",
    "    'nop': lambda instruction_param, acc, ip: (acc, ip+1),\n",
    "    'jmp': (lambda instruction_param, acc, ip: (acc, ip+instruction_param)),\n",
    "    'acc': lambda instruction_param, acc, ip: (acc+instruction_param, ip+1)    \n",
    "}"
   ]
  },
  {
   "cell_type": "code",
   "execution_count": 4,
   "metadata": {},
   "outputs": [
    {
     "data": {
      "text/plain": [
       "(False, 1600)"
      ]
     },
     "execution_count": 4,
     "metadata": {},
     "output_type": "execute_result"
    }
   ],
   "source": [
    "def is_halting(prog, verbose=False):\n",
    "    invariant_tracker = set()\n",
    "    ip = 0\n",
    "    acc = 0\n",
    "    inf_loop = False\n",
    "    while(ip >= 0 and ip < len(prog)):\n",
    "        verbose and print(f'ip={ip} acc={acc}')\n",
    "        verbose and print(f'invariant_tracker = {invariant_tracker}')\n",
    "        # detect inf loop\n",
    "        if ip in invariant_tracker:\n",
    "            verbose and print(f'Infinite loop detected: acc = {acc}')\n",
    "            return (False, acc)\n",
    "        invariant_tracker.add(ip)\n",
    "        instruction = prog[ip]\n",
    "        verbose and print(f'interpreting: {instruction} acc={acc} ip={ip}')\n",
    "        acc, ip = interpret[instruction[0]](instruction[1], acc, ip)\n",
    "    verbose and print('Program terminated regularly')\n",
    "    return (True, acc)\n",
    "is_halting(original_program)"
   ]
  },
  {
   "cell_type": "code",
   "execution_count": 11,
   "metadata": {},
   "outputs": [
    {
     "data": {
      "text/plain": [
       "1543"
      ]
     },
     "execution_count": 11,
     "metadata": {},
     "output_type": "execute_result"
    }
   ],
   "source": [
    "bad_apples = {\n",
    "    'nop': 'jmp',\n",
    "    'jmp': 'nop'\n",
    "}\n",
    "\n",
    "def fix_program_naive(prog, verbose=False):\n",
    "    # check for all candidate instructions to switch them around\n",
    "    candidates = [(ip, prog[ip][0])  for ip in range(0, len(prog)) if prog[ip][0] in bad_apples.keys()]\n",
    "    verbose and print(f'found {len(candidates)} candidates')\n",
    "    # for each of those found\n",
    "    for ip, ins in candidates:\n",
    "        # switch them out\n",
    "        prog[ip][0] = bad_apples[ins]\n",
    "        # and check if the program halts\n",
    "        halts, acc = is_halting(prog)\n",
    "        # undo switch\n",
    "        prog[ip][0] = ins\n",
    "        # if it does return last obtained acc\n",
    "        if halts:\n",
    "            verbose and print(f'Detected a fix at {ip}, namely {\" \".join([str(x) for x in prog[ip]])} => {bad_apples[ins]} {prog[ip][1]}')\n",
    "            return acc\n",
    "    verbose and print(f'No fix detected')\n",
    "    return None\n",
    "fix_program_naive(original_program, False)"
   ]
  },
  {
   "cell_type": "code",
   "execution_count": null,
   "metadata": {},
   "outputs": [],
   "source": []
  },
  {
   "cell_type": "code",
   "execution_count": null,
   "metadata": {},
   "outputs": [],
   "source": []
  }
 ],
 "metadata": {
  "kernelspec": {
   "display_name": "Python 3",
   "language": "python",
   "name": "python3"
  },
  "language_info": {
   "codemirror_mode": {
    "name": "ipython",
    "version": 3
   },
   "file_extension": ".py",
   "mimetype": "text/x-python",
   "name": "python",
   "nbconvert_exporter": "python",
   "pygments_lexer": "ipython3",
   "version": "3.9.0"
  }
 },
 "nbformat": 4,
 "nbformat_minor": 4
}
