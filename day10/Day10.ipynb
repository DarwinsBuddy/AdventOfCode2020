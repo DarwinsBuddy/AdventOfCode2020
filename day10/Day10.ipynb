{
 "cells": [
  {
   "cell_type": "code",
   "execution_count": 5,
   "metadata": {},
   "outputs": [],
   "source": [
    "import pandas as pd"
   ]
  },
  {
   "cell_type": "code",
   "execution_count": 10,
   "metadata": {},
   "outputs": [
    {
     "name": "stdout",
     "output_type": "stream",
     "text": [
      "3 occurring: 37 times\n",
      "1 occurring: 75 times\n",
      "solution: 2775\n"
     ]
    }
   ],
   "source": [
    "df = pd.read_csv('input', header=None)\n",
    "df.head()\n",
    "orig_adapters = [x[0] for x in df.values.tolist()]\n",
    "adapters = sorted(orig_adapters)\n",
    "\n",
    "def get_jolt_distribution(adapters, verbose=False):\n",
    "    verbose and print(f'{\" \".join([str(x) for x in adapters])}')\n",
    "    dist = [ x[1] - x[0] for x in list(zip(adapters, adapters[1:]))]\n",
    "    verbose and print(f'{\" \".join([str(x) for x in dist])}')\n",
    "    return dist\n",
    "\n",
    "dist = get_jolt_distribution([0] + adapters)\n",
    "jolt3 = len([x for x in dist if x == 3])\n",
    "jolt1 = len([x for x in dist if x == 1])\n",
    "print(f'3 occurring: {jolt3+1} times')\n",
    "print(f'1 occurring: {jolt1} times')\n",
    "print(f'solution: {(jolt3+1) * jolt1}')"
   ]
  },
  {
   "cell_type": "code",
   "execution_count": 20,
   "metadata": {},
   "outputs": [
    {
     "data": {
      "text/plain": [
       "518344341716992"
      ]
     },
     "execution_count": 20,
     "metadata": {},
     "output_type": "execute_result"
    }
   ],
   "source": [
    "import itertools as it\n",
    "from  pprint import pprint\n",
    "verbose = False\n",
    "\n",
    "l = [0] + adapters + [max(adapters)+3]\n",
    "verbose and print(l)\n",
    "verbose and print(get_jolt_distribution(l))\n",
    "\n",
    "def different_paths(n,ls=[],available_jolt_gaps=[1,2,3], verbose=False):\n",
    "    num = 0\n",
    "    for gap in available_jolt_gaps:\n",
    "        summe = sum(ls+[gap])\n",
    "        if summe == n:\n",
    "            verbose and print(ls+[gap])\n",
    "            num+= 1\n",
    "        elif summe < n:\n",
    "            num += different_paths(n,ls+[gap])\n",
    "    return num\n",
    "\n",
    "\n",
    "# NOTE! This works only because we assume, that all adapters either have 1 or 3 jolt difference!\n",
    "def rec(ls, verbose=False):\n",
    "    # stop recursion when we checked all adapters\n",
    "    if len(ls) > 0:\n",
    "        # get the \"jolt distribution\" of the part of the adapter chain we are currently looking at\n",
    "        d = get_jolt_distribution(ls)\n",
    "        verbose and print(f'd = {d}')\n",
    "        # if all of them are 1 apart\n",
    "        if all([x == 1 for x in d]):\n",
    "            # we simply calculate all different combinations and sum them up\n",
    "            summe = different_paths(len(d)) or 1\n",
    "            verbose and print(f'SUM = {summe}')\n",
    "            return summe\n",
    "        else: #  otherwise there has to be a 3-jolt adapter somewhere in it\n",
    "              #  (which basically is a fixpoint and has to be in EVERY combination chain)\n",
    "              #  so we split our chain there and multiply the number of combinations\n",
    "              #  every branch has left * right and return the product\n",
    "            pivot_index = next(i for i,v in enumerate(d) if v == 3)\n",
    "            left_list = ls[:pivot_index+1]\n",
    "            verbose and print(f'LEFT => {left_list}')\n",
    "            left = rec(left_list)\n",
    "            right_list = ls[pivot_index+1:]\n",
    "            verbose and print(f'RIGHT => {right_list}')\n",
    "            right = rec(right_list)\n",
    "            return left * right\n",
    "    else: # everything else shouldn't alter our result so return the neutral element of *\n",
    "        return 1\n",
    "    \n",
    "rec(l, verbose)"
   ]
  },
  {
   "cell_type": "code",
   "execution_count": null,
   "metadata": {},
   "outputs": [],
   "source": []
  }
 ],
 "metadata": {
  "kernelspec": {
   "display_name": "Python 3",
   "language": "python",
   "name": "python3"
  },
  "language_info": {
   "codemirror_mode": {
    "name": "ipython",
    "version": 3
   },
   "file_extension": ".py",
   "mimetype": "text/x-python",
   "name": "python",
   "nbconvert_exporter": "python",
   "pygments_lexer": "ipython3",
   "version": "3.9.0"
  }
 },
 "nbformat": 4,
 "nbformat_minor": 4
}
