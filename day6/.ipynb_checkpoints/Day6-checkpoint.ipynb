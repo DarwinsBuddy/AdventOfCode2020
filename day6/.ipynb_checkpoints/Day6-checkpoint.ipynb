{
 "cells": [
  {
   "cell_type": "code",
   "execution_count": 1,
   "metadata": {},
   "outputs": [],
   "source": [
    "import pandas as pd"
   ]
  },
  {
   "cell_type": "code",
   "execution_count": 20,
   "metadata": {},
   "outputs": [
    {
     "name": "stdout",
     "output_type": "stream",
     "text": [
      "['qzbw\\n', 'qez\\n', '\\n', 'xgedfibnyuhqsrazlwtpocj\\n', 'fxgpoqijdzybletckwaunsr\\n', 'pwnqsizrfcbyljexgouatd\\n', 'ljtperqsodghnufiycxwabz\\n', '\\n', 'uk\\n', 'kupacjlriv\\n']\n"
     ]
    }
   ],
   "source": [
    "with open('input', 'r') as f:\n",
    "    data = f.readlines()\n",
    "print(data[0:10])"
   ]
  },
  {
   "cell_type": "code",
   "execution_count": 49,
   "metadata": {},
   "outputs": [
    {
     "data": {
      "text/plain": [
       "6742"
      ]
     },
     "execution_count": 49,
     "metadata": {},
     "output_type": "execute_result"
    }
   ],
   "source": [
    "# DAY6 - PART 1\n",
    "from itertools import groupby\n",
    "from functools import reduce\n",
    "\n",
    "# split them groups at lines only containing \\n\n",
    "groups_str = [list(group) for k, group in groupby(data, lambda x: x == \"\\n\") if not k]\n",
    "# trim \\n from each answersheet\n",
    "groups = [[[c for c in answer.replace('\\n', '')] for answer in g] for g in groups_str]\n",
    "# for each group concat together all answer sheets and make a distinct set of it -> take the length\n",
    "anyone_groups = [len(set(reduce(lambda x,y: x + y, a))) for a in [g for g in groups]]\n",
    "# sum it and ship it\n",
    "sum(anyone_groups)"
   ]
  },
  {
   "cell_type": "code",
   "execution_count": 53,
   "metadata": {},
   "outputs": [
    {
     "data": {
      "text/plain": [
       "3447"
      ]
     },
     "execution_count": 53,
     "metadata": {},
     "output_type": "execute_result"
    }
   ],
   "source": [
    "# DAY6 - PART 2\n",
    "# for each group take the intersection of all answer sheets -> take the length\n",
    "everyone_groups = [len(reduce(lambda x,y: set.intersection(set(x), set(y)), a)) for a in [g for g in groups]]\n",
    "# profit\n",
    "sum(everyone_groups)"
   ]
  },
  {
   "cell_type": "code",
   "execution_count": null,
   "metadata": {},
   "outputs": [],
   "source": []
  }
 ],
 "metadata": {
  "kernelspec": {
   "display_name": "Python 3",
   "language": "python",
   "name": "python3"
  },
  "language_info": {
   "codemirror_mode": {
    "name": "ipython",
    "version": 3
   },
   "file_extension": ".py",
   "mimetype": "text/x-python",
   "name": "python",
   "nbconvert_exporter": "python",
   "pygments_lexer": "ipython3",
   "version": "3.9.0"
  }
 },
 "nbformat": 4,
 "nbformat_minor": 4
}
