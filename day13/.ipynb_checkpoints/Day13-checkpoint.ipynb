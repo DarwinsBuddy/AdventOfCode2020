{
 "cells": [
  {
   "cell_type": "code",
   "execution_count": 58,
   "metadata": {},
   "outputs": [
    {
     "name": "stdout",
     "output_type": "stream",
     "text": [
      "1003681\n",
      "['23', 'x', 'x', 'x', 'x', 'x', 'x', 'x', 'x', 'x', 'x', 'x', 'x', 'x', 'x', 'x', 'x', '37', 'x', 'x', 'x', 'x', 'x', '431', 'x', 'x', 'x', 'x', 'x', 'x', 'x', 'x', 'x', 'x', 'x', 'x', '13', '17', 'x', 'x', 'x', 'x', '19', 'x', 'x', 'x', 'x', 'x', 'x', 'x', 'x', 'x', 'x', 'x', '409', 'x', 'x', 'x', 'x', 'x', 'x', 'x', 'x', 'x', '41', 'x', 'x', 'x', 'x', 'x', 'x', 'x', 'x', 'x', 'x', 'x', 'x', 'x', 'x', 'x', 'x', 'x', 'x', '29']\n"
     ]
    }
   ],
   "source": [
    "with open('input', 'r') as f:\n",
    "    start = int(f.readline().strip())\n",
    "    schedule = f.readline().strip().split(',')\n",
    "print(start)\n",
    "print(schedule)"
   ]
  },
  {
   "cell_type": "code",
   "execution_count": 59,
   "metadata": {},
   "outputs": [
    {
     "name": "stdout",
     "output_type": "stream",
     "text": [
      "Bus # 409 Waiting time: 5 minutes\n"
     ]
    },
    {
     "data": {
      "text/plain": [
       "2045"
      ]
     },
     "execution_count": 59,
     "metadata": {},
     "output_type": "execute_result"
    }
   ],
   "source": [
    "# DAY 13 - PART 1\n",
    "import numpy as np\n",
    "pool = np.array([int(b) for b in schedule if b != 'x'])\n",
    "\n",
    "missed = [start % bus for bus in pool]\n",
    "left_to_wait = pool - missed\n",
    "# since we assume that there is exactly! 1 bus, we can just look for the min arg\n",
    "minimum_wait = min(left_to_wait)\n",
    "bus = pool[list(left_to_wait).index(minimum_wait)]\n",
    "print(f'Bus # {bus} Waiting time: {minimum_wait} minutes')\n",
    "bus*minimum_wait"
   ]
  },
  {
   "cell_type": "code",
   "execution_count": 61,
   "metadata": {},
   "outputs": [
    {
     "name": "stdout",
     "output_type": "stream",
     "text": [
      "[[0 23]\n",
      " [1 None]\n",
      " [2 None]\n",
      " [3 None]\n",
      " [4 None]\n",
      " [5 None]\n",
      " [6 None]\n",
      " [7 None]\n",
      " [8 None]\n",
      " [9 None]\n",
      " [10 None]\n",
      " [11 None]\n",
      " [12 None]\n",
      " [13 None]\n",
      " [14 None]\n",
      " [15 None]\n",
      " [16 None]\n",
      " [17 37]\n",
      " [18 None]\n",
      " [19 None]\n",
      " [20 None]\n",
      " [21 None]\n",
      " [22 None]\n",
      " [23 431]\n",
      " [24 None]\n",
      " [25 None]\n",
      " [26 None]\n",
      " [27 None]\n",
      " [28 None]\n",
      " [29 None]\n",
      " [30 None]\n",
      " [31 None]\n",
      " [32 None]\n",
      " [33 None]\n",
      " [34 None]\n",
      " [35 None]\n",
      " [36 13]\n",
      " [37 17]\n",
      " [38 None]\n",
      " [39 None]\n",
      " [40 None]\n",
      " [41 None]\n",
      " [42 19]\n",
      " [43 None]\n",
      " [44 None]\n",
      " [45 None]\n",
      " [46 None]\n",
      " [47 None]\n",
      " [48 None]\n",
      " [49 None]\n",
      " [50 None]\n",
      " [51 None]\n",
      " [52 None]\n",
      " [53 None]\n",
      " [54 409]\n",
      " [55 None]\n",
      " [56 None]\n",
      " [57 None]\n",
      " [58 None]\n",
      " [59 None]\n",
      " [60 None]\n",
      " [61 None]\n",
      " [62 None]\n",
      " [63 None]\n",
      " [64 41]\n",
      " [65 None]\n",
      " [66 None]\n",
      " [67 None]\n",
      " [68 None]\n",
      " [69 None]\n",
      " [70 None]\n",
      " [71 None]\n",
      " [72 None]\n",
      " [73 None]\n",
      " [74 None]\n",
      " [75 None]\n",
      " [76 None]\n",
      " [77 None]\n",
      " [78 None]\n",
      " [79 None]\n",
      " [80 None]\n",
      " [81 None]\n",
      " [82 None]\n",
      " [83 29]]\n",
      "{23: 0, 37: 20, 431: 408, 13: 3, 17: 14, 19: 15, 409: 355, 41: 18, 29: 4}\n",
      "[431, 409, 41, 37, 29, 23, 19, 17, 13]\n"
     ]
    },
    {
     "data": {
      "text/plain": [
       "402251700208309"
      ]
     },
     "execution_count": 61,
     "metadata": {},
     "output_type": "execute_result"
    }
   ],
   "source": [
    "# DAY 13 - PART 2\n",
    "import numpy as np\n",
    "\n",
    "pool = np.array(list(enumerate(np.array([int(b) if b != 'x' else None for b in schedule]))))\n",
    "print(pool)\n",
    "\n",
    "congruences = {bus: -i % bus for i, bus in pool if bus is not None}\n",
    "print(congruences)\n",
    "busses = list(reversed(sorted(congruences)))\n",
    "print(busses)\n",
    "ts = congruences[busses[0]]\n",
    "bus = busses[0]\n",
    "for b in busses[1:]:\n",
    "    while ts % b != congruences[b]:\n",
    "        ts += bus\n",
    "    bus *= b\n",
    "ts"
   ]
  }
 ],
 "metadata": {
  "kernelspec": {
   "display_name": "Python 3",
   "language": "python",
   "name": "python3"
  },
  "language_info": {
   "codemirror_mode": {
    "name": "ipython",
    "version": 3
   },
   "file_extension": ".py",
   "mimetype": "text/x-python",
   "name": "python",
   "nbconvert_exporter": "python",
   "pygments_lexer": "ipython3",
   "version": "3.9.0"
  }
 },
 "nbformat": 4,
 "nbformat_minor": 4
}
