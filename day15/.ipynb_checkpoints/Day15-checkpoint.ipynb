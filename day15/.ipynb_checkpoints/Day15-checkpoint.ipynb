{
 "cells": [
  {
   "cell_type": "code",
   "execution_count": 12,
   "metadata": {},
   "outputs": [
    {
     "data": {
      "text/plain": [
       "[{'id': 0, 'numbers': [0, 3, 6], 'answer': 436, 'n': 2020},\n",
       " {'id': 0, 'numbers': [0, 3, 6], 'answer': 175594, 'n': 30000000},\n",
       " {'id': 0, 'numbers': [0, 3, 6], 'answer': 6, 'n': 3},\n",
       " {'id': 1, 'numbers': [1, 3, 2], 'answer': 1, 'n': 2020},\n",
       " {'id': 1, 'numbers': [1, 3, 2], 'answer': 2578, 'n': 30000000},\n",
       " {'id': 2, 'numbers': [2, 1, 3], 'answer': 10, 'n': 2020},\n",
       " {'id': 2, 'numbers': [2, 1, 3], 'answer': 3544142, 'n': 30000000},\n",
       " {'id': 3, 'numbers': [1, 2, 3], 'answer': 27, 'n': 2020},\n",
       " {'id': 3, 'numbers': [1, 2, 3], 'answer': 261214, 'n': 30000000},\n",
       " {'id': 4, 'numbers': [2, 3, 1], 'answer': 78, 'n': 2020},\n",
       " {'id': 4, 'numbers': [2, 3, 1], 'answer': 6895259, 'n': 30000000},\n",
       " {'id': 5, 'numbers': [3, 2, 1], 'answer': 438, 'n': 2020},\n",
       " {'id': 5, 'numbers': [3, 2, 1], 'answer': 18, 'n': 30000000},\n",
       " {'id': 6, 'numbers': [3, 1, 2], 'answer': 1836, 'n': 2020},\n",
       " {'id': 6, 'numbers': [3, 1, 2], 'answer': 362, 'n': 30000000}]"
      ]
     },
     "execution_count": 12,
     "metadata": {},
     "output_type": "execute_result"
    }
   ],
   "source": [
    "tests = []\n",
    "for i in range(0,7):\n",
    "    with open(f'test{i}', 'r') as f:\n",
    "        numbers = [int(x) for x in f.readline().split(',')]\n",
    "        while True:\n",
    "            line = f.readline() or None\n",
    "            if not line:\n",
    "                break\n",
    "            n,answer = tuple([int(x) for x in line.strip().split(',')])\n",
    "            tests.append({'id': i, 'numbers': numbers, 'answer': answer, 'n': n})\n",
    "\n",
    "with open(f'input', 'r') as f:\n",
    "    input_nums = [int(x) for x in f.readline().split(',')]\n",
    "\n",
    "    \n",
    "def test(testnr,p,n=None):\n",
    "    if n:\n",
    "        selected_cases = list(filter((lambda t: t['id'] == testnr and t['n'] == n), tests))\n",
    "    else:\n",
    "        selected_cases = list(filter((lambda t: t['id'] == testnr), tests))\n",
    "    \n",
    "    for t in selected_cases:\n",
    "        nums = t['numbers']\n",
    "        answer = t['answer']\n",
    "        test_n = t['n']\n",
    "\n",
    "        result = p(nums,n)\n",
    "        print(f'{p.__name__}')\n",
    "        print(\"\\t\" + f'{\"SUCCESS\" if result == answer else \"FAIL\"}')\n",
    "        print(\"\\t\" + f'n={n} - test #{t[\"id\"]}: {result} = {answer}')\n",
    "        print('-'*30)\n",
    "\n",
    "tests"
   ]
  },
  {
   "cell_type": "code",
   "execution_count": 13,
   "metadata": {},
   "outputs": [],
   "source": [
    "# DAY 15 - PART 1\n",
    "def play_naive(numbers, n):\n",
    "    nums = numbers\n",
    "    while True:\n",
    "        if len(nums) == n:\n",
    "            return nums[-1]\n",
    "        last = nums[-1]\n",
    "        if last not in nums[:-1]:\n",
    "            nxt = 0\n",
    "        else:\n",
    "            nxt = list(reversed(nums[:-1])).index(last) + 1 # calc age\n",
    "        nums.append(nxt)"
   ]
  },
  {
   "cell_type": "code",
   "execution_count": 23,
   "metadata": {},
   "outputs": [],
   "source": [
    "# DAY 15 - PART 2\n",
    "def play_wise(nums,N, verbose=False):\n",
    "    cache = {}\n",
    "    for i,x in enumerate(nums[:-1]):\n",
    "        cache[x] = i\n",
    "    verbose and print(f'init cache: {cache}')\n",
    "    n = len(nums)\n",
    "    last = nums[-1]\n",
    "    while True:\n",
    "        verbose and print(f'cache: {cache}')\n",
    "        verbose and print(f'last = {last}')\n",
    "        verbose and print(f'n = {n}')\n",
    "        if N == n:\n",
    "            return last\n",
    "        if last not in cache:\n",
    "            cache[last] = n - 1\n",
    "            last = 0\n",
    "        else:\n",
    "            last_index = cache[last]\n",
    "            new_last_index = n - 1\n",
    "            age = new_last_index - last_index # calc age\n",
    "            verbose and print(f'age = {age}')\n",
    "            cache[last] = new_last_index\n",
    "            last = age\n",
    "        n += 1\n",
    "\n",
    "#test(0,play_wise,30000000)\n",
    "#test(0,play_wise,2020)"
   ]
  },
  {
   "cell_type": "code",
   "execution_count": 25,
   "metadata": {},
   "outputs": [
    {
     "name": "stdout",
     "output_type": "stream",
     "text": [
      "play_wise\n",
      "\tSUCCESS\n",
      "\tn=2020 - test #0: 436 = 436\n",
      "------------------------------\n",
      "play_wise\n",
      "\tSUCCESS\n",
      "\tn=30000000 - test #0: 175594 = 175594\n",
      "------------------------------\n",
      "play_wise\n",
      "\tSUCCESS\n",
      "\tn=2020 - test #1: 1 = 1\n",
      "------------------------------\n",
      "play_wise\n",
      "\tSUCCESS\n",
      "\tn=30000000 - test #1: 2578 = 2578\n",
      "------------------------------\n",
      "play_wise\n",
      "\tSUCCESS\n",
      "\tn=2020 - test #2: 10 = 10\n",
      "------------------------------\n",
      "play_wise\n",
      "\tSUCCESS\n",
      "\tn=30000000 - test #2: 3544142 = 3544142\n",
      "------------------------------\n",
      "play_wise\n",
      "\tSUCCESS\n",
      "\tn=2020 - test #3: 27 = 27\n",
      "------------------------------\n",
      "play_wise\n",
      "\tSUCCESS\n",
      "\tn=30000000 - test #3: 261214 = 261214\n",
      "------------------------------\n",
      "play_wise\n",
      "\tSUCCESS\n",
      "\tn=2020 - test #4: 78 = 78\n",
      "------------------------------\n",
      "play_wise\n",
      "\tSUCCESS\n",
      "\tn=30000000 - test #4: 6895259 = 6895259\n",
      "------------------------------\n",
      "play_wise\n",
      "\tSUCCESS\n",
      "\tn=2020 - test #5: 438 = 438\n",
      "------------------------------\n",
      "play_wise\n",
      "\tSUCCESS\n",
      "\tn=30000000 - test #5: 18 = 18\n",
      "------------------------------\n",
      "play_wise\n",
      "\tSUCCESS\n",
      "\tn=2020 - test #6: 1836 = 1836\n",
      "------------------------------\n",
      "play_wise\n",
      "\tSUCCESS\n",
      "\tn=30000000 - test #6: 362 = 362\n",
      "------------------------------\n",
      "n = 2020 => 1665\n"
     ]
    }
   ],
   "source": [
    "p = play_wise\n",
    "for tc in range(0,len(tests)):\n",
    "    for n in [2020, 30000000]:\n",
    "        test(tc,p,n)\n",
    "    \n",
    "print(f'n = 2020 => {play_naive(input_nums,2020)}')\n",
    "#print(f'n = 30000000 => {play_wise(input_nums,30000000)}')"
   ]
  },
  {
   "cell_type": "code",
   "execution_count": 26,
   "metadata": {},
   "outputs": [
    {
     "name": "stdout",
     "output_type": "stream",
     "text": [
      "n = 30000000 => 16439\n"
     ]
    }
   ],
   "source": [
    "print(f'n = 30000000 => {play_wise(input_nums,30000000)}')"
   ]
  },
  {
   "cell_type": "code",
   "execution_count": null,
   "metadata": {},
   "outputs": [],
   "source": []
  }
 ],
 "metadata": {
  "kernelspec": {
   "display_name": "Python 3",
   "language": "python",
   "name": "python3"
  },
  "language_info": {
   "codemirror_mode": {
    "name": "ipython",
    "version": 3
   },
   "file_extension": ".py",
   "mimetype": "text/x-python",
   "name": "python",
   "nbconvert_exporter": "python",
   "pygments_lexer": "ipython3",
   "version": "3.9.1"
  }
 },
 "nbformat": 4,
 "nbformat_minor": 4
}
