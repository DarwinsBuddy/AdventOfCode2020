{
 "cells": [
  {
   "cell_type": "code",
   "execution_count": 1,
   "metadata": {},
   "outputs": [],
   "source": [
    "import pandas as pd"
   ]
  },
  {
   "cell_type": "code",
   "execution_count": 6,
   "metadata": {},
   "outputs": [],
   "source": [
    "df = pd.read_csv('input', header=None)\n",
    "df.head()\n",
    "data = df.values.flatten().tolist()"
   ]
  },
  {
   "cell_type": "code",
   "execution_count": 35,
   "metadata": {},
   "outputs": [
    {
     "name": "stdout",
     "output_type": "stream",
     "text": [
      "ROWS: 323\n",
      "COLS: 31\n",
      "1st solution: 184\n",
      "2nd solution: 184\n"
     ]
    }
   ],
   "source": [
    "# DAY 3 - PART 1\n",
    "\n",
    "cols = len(data[0])\n",
    "rows = len(data)\n",
    "\n",
    "print(f'ROWS: {rows}')\n",
    "print(f'COLS: {cols}')\n",
    "\n",
    "# First solution\n",
    "positions = [[r, (r*3) % cols] for r in list(range(1,rows))]\n",
    "trees = [data[pos[0]][pos[1]] for pos in positions if data[pos[0]][pos[1]] == '#']\n",
    "print(f'1st solution: {len(trees)}')\n",
    "\n",
    "\n",
    "# Second solution\n",
    "def traverse(treemap, position, treecount):\n",
    "    if position[0] >= rows:\n",
    "        return treecount\n",
    "    else:\n",
    "        return traverse(treemap,\n",
    "                        [position[0]+1, (position[1]+3) % cols],\n",
    "                        treecount + 1 if treemap[position[0]][position[1]] == '#' else treecount)\n",
    "    \n",
    "print(f'2nd solution: {traverse(data, [0,0], 0)}')\n",
    "        "
   ]
  },
  {
   "cell_type": "code",
   "execution_count": 48,
   "metadata": {
    "scrolled": false
   },
   "outputs": [
    {
     "name": "stdout",
     "output_type": "stream",
     "text": [
      "ROWS: 323\n",
      "COLS: 31\n"
     ]
    },
    {
     "data": {
      "text/plain": [
       "2431272960"
      ]
     },
     "execution_count": 48,
     "metadata": {},
     "output_type": "execute_result"
    }
   ],
   "source": [
    "from functools import reduce\n",
    "# DAY 3 - PART 2\n",
    "\n",
    "cols = len(data[0])\n",
    "rows = len(data)\n",
    "\n",
    "print(f'ROWS: {rows}')\n",
    "print(f'COLS: {cols}')\n",
    "\n",
    "# [[stepsRight, stepsDown], ...]\n",
    "paths = [\n",
    " [1,1],\n",
    " [3,1],\n",
    " [5,1],\n",
    " [7,1],\n",
    " [1,2]    \n",
    "]\n",
    "\n",
    "def traverse(path):\n",
    "        positions = [[r, (int(r/path[1])*path[0]) % cols] for r in list(range(path[1],rows, path[1]))]\n",
    "        trees = [data[pos[0]][pos[1]] for pos in positions if data[pos[0]][pos[1]] == '#']\n",
    "        return(len(trees))\n",
    "\n",
    "counts = [traverse(p) for p in paths]\n",
    "reduce(lambda x,y: x*y, counts)"
   ]
  },
  {
   "cell_type": "code",
   "execution_count": null,
   "metadata": {},
   "outputs": [],
   "source": []
  }
 ],
 "metadata": {
  "kernelspec": {
   "display_name": "Python 3",
   "language": "python",
   "name": "python3"
  },
  "language_info": {
   "codemirror_mode": {
    "name": "ipython",
    "version": 3
   },
   "file_extension": ".py",
   "mimetype": "text/x-python",
   "name": "python",
   "nbconvert_exporter": "python",
   "pygments_lexer": "ipython3",
   "version": "3.9.0"
  }
 },
 "nbformat": 4,
 "nbformat_minor": 4
}
